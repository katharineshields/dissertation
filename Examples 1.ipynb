{
 "cells": [
  {
   "cell_type": "code",
   "execution_count": 25,
   "metadata": {},
   "outputs": [],
   "source": [
    "# importing all the extra modules\n",
    "import nltk\n",
    "import cltk\n",
    "import os\n",
    "from tqdm import tqdm\n",
    "import sys \n",
    "import re\n",
    "# importing the tool to import Greek with the CLTK\n",
    "from cltk.corpus.utils.importer import CorpusImporter\n",
    "gkci = CorpusImporter('greek')\n",
    "gkci.import_corpus('greek_treebank_perseus')"
   ]
  },
  {
   "cell_type": "code",
   "execution_count": 26,
   "metadata": {},
   "outputs": [],
   "source": [
    "# importing the CLTK POS tagger\n",
    "# this doeesn't work if you capitalise Greek\n",
    "from cltk.tag.pos import POSTag\n",
    "tagger = POSTag('greek')"
   ]
  },
  {
   "cell_type": "code",
   "execution_count": 54,
   "metadata": {},
   "outputs": [
    {
     "name": "stdout",
     "output_type": "stream",
     "text": [
      "[('Ἐπὶ', 'Unk'), ('τούτοις', 'A-P---MD-'), ('ὅρκια', 'N-P---NA-'), ('ἐποιήσαντο', 'Unk'), ('οἵ', 'P-P---MN-'), ('τε', 'G--------'), ('αὐτεῖ', 'Unk'), ('μένοντες', 'T-PPPAMN-'), ('\\\\', 'Unk'), ('καὶ', 'C--------'), ('οἱ', 'L-P---MN-'), ('πλέοντες', 'T-PPPAMN-'), ('οἰκιξόντες', 'Unk'), ('καὶ', 'C--------'), ('ἀρὰς', 'N-P---FA-'), ('ἐποιήσαντο', 'Unk'), ('τὸς', 'Unk'), ('ταῦτα', 'A-P---NA-'), ('παρβέωντας', 'Unk'), ('καὶ', 'C--------'), ('μὴ', 'G--------'), ('ἐμμένοντας', 'Unk'), ('ἢ', 'C--------'), ('τῶν', 'L-P---MG-'), ('ἐλ', 'Unk'), ('Λιβύαι', 'Unk'), ('οἰκεόντων', 'Unk'), ('ἢ', 'C--------'), ('τῶν', 'L-P---MG-'), ('αὐτεῖ', 'Unk'), ('\\\\', 'Unk'), ('μενόντων', 'V3PPMA---'), ('.', 'U--------'), ('Κηρίνος', 'Unk'), ('πλάσσαντες', 'Unk'), ('κολοσὸς', 'Unk'), ('κατέκαιον', 'V3PIIA---'), ('ἐπαρεώμενοι', 'Unk'), ('πάντες', 'A-P---MN-'), ('συνενθόντες', 'Unk'), ('καὶ', 'C--------'), ('ἄνδρες', 'N-P---MN-'), ('καὶ', 'C--------'), ('γυναῖκες', 'N-P---FN-'), ('\\\\', 'Unk'), ('καὶ', 'C--------'), ('παῖδες', 'N-P---MV-'), ('καὶ', 'C--------'), ('παιδίσκαι', 'Unk'), ('·', 'U--------'), ('τὸμ', 'Unk'), ('μὴ', 'C--------'), ('ἐμμένοντα', 'Unk'), ('τούτοις', 'A-P---ND-'), ('τοῖς', 'L-P---ND-'), ('ὁρκίοις', 'Unk'), ('ἀλλὰ', 'C--------'), ('παρβέωντα', 'Unk'), ('καταλείβεσθαί', 'Unk'), ('νιν', 'P-S---MA-'), ('καὶ', 'C--------'), ('καταρρὲν', 'Unk'), ('\\\\', 'Unk'), ('ὥσπερ', 'D--------'), ('τὸς', 'Unk'), ('κολοσός', 'Unk'), (',', 'U--------'), ('καὶ', 'C--------'), ('αὐτὸν', 'A-S---MA-'), ('καὶ', 'C--------'), ('γόνον', 'N-S---MA-'), ('καὶ', 'C--------'), ('χρήματα', 'N-P---NA-')]\n"
     ]
    }
   ],
   "source": [
    "# testing the POS tagger on lines 40-49 of the Cyrene Foundation inscription \n",
    "# \\\\ to make it fit on the screen, tagger doesn't work on words split over line breaks  \n",
    "text = (\"Ἐπὶ τούτοις ὅρκια ἐποιήσαντο οἵ τε αὐτεῖ μένοντες \\\\\n",
    "καὶ οἱ πλέοντες οἰκιξόντες καὶ ἀρὰς ἐποιήσαντο τὸς ταῦτα παρβέωντας καὶ μὴ ἐμμένοντας ἢ τῶν ἐλ Λιβύαι οἰκεόντων ἢ τῶν αὐτεῖ \\\\\n",
    "μενόντων. Κηρίνος πλάσσαντες κολοσὸς κατέκαιον ἐπαρεώμενοι πάντες συνενθόντες καὶ ἄνδρες καὶ γυναῖκες \\\\\n",
    "καὶ παῖδες καὶ παιδίσκαι· τὸμ μὴ ἐμμένοντα τούτοις τοῖς ὁρκίοις ἀλλὰ παρβέωντα καταλείβεσθαί νιν καὶ καταρρὲν \\\\\n",
    "ὥσπερ τὸς κολοσός, καὶ αὐτὸν καὶ γόνον καὶ χρήματα\")\n",
    "tagged1 = tagger.tag_tnt(text)\n",
    "print(tagged1)"
   ]
  },
  {
   "cell_type": "code",
   "execution_count": 55,
   "metadata": {},
   "outputs": [
    {
     "name": "stdout",
     "output_type": "stream",
     "text": [
      "[('Ἐπὶ', None), ('τούτοις', 'A-P---MD-'), ('ὅρκια', 'N-P---NA-'), ('ἐποιήσαντο', None), ('οἵ', 'P-P---MN-'), ('τε', 'G--------'), ('αὐτεῖ', None), ('μένοντες', 'T-PPPAMN-'), ('\\\\', None), ('καὶ', 'C--------'), ('οἱ', 'P-S---MD-'), ('πλέοντες', 'T-PPPAMN-'), ('οἰκιξόντες', None), ('καὶ', 'C--------'), ('ἀρὰς', 'N-P---FA-'), ('ἐποιήσαντο', None), ('τὸς', None), ('ταῦτα', 'A-P---NA-'), ('παρβέωντας', None), ('καὶ', 'C--------'), ('μὴ', 'G--------'), ('ἐμμένοντας', None), ('ἢ', 'C--------'), ('τῶν', 'L-P---NG-'), ('ἐλ', None), ('Λιβύαι', None), ('οἰκεόντων', None), ('ἢ', 'C--------'), ('τῶν', 'L-P---NG-'), ('αὐτεῖ', None), ('\\\\', None), ('μενόντων', 'V3PPMA---'), ('.', 'U--------'), ('Κηρίνος', None), ('πλάσσαντες', None), ('κολοσὸς', None), ('κατέκαιον', 'V3PIIA---'), ('ἐπαρεώμενοι', None), ('πάντες', 'A-P---MN-'), ('συνενθόντες', None), ('καὶ', 'C--------'), ('ἄνδρες', 'N-P---MN-'), ('καὶ', 'C--------'), ('γυναῖκες', 'N-P---FN-'), ('\\\\', None), ('καὶ', 'C--------'), ('παῖδες', 'N-P---MN-'), ('καὶ', 'C--------'), ('παιδίσκαι', None), ('·', 'U--------'), ('τὸμ', None), ('μὴ', 'C--------'), ('ἐμμένοντα', None), ('τούτοις', 'A-P---MD-'), ('τοῖς', 'L-P---MD-'), ('ὁρκίοις', None), ('ἀλλὰ', 'C--------'), ('παρβέωντα', None), ('καταλείβεσθαί', None), ('νιν', 'P-S---MA-'), ('καὶ', 'D--------'), ('καταρρὲν', None), ('\\\\', None), ('ὥσπερ', 'D--------'), ('τὸς', None), ('κολοσός', None), (',', 'U--------'), ('καὶ', 'C--------'), ('αὐτὸν', 'A-S---MA-'), ('καὶ', 'C--------'), ('γόνον', 'N-S---MA-'), ('καὶ', 'C--------'), ('χρήματα', 'N-P---NA-')]\n"
     ]
    }
   ],
   "source": [
    "# this is a different tagger\n",
    "tagged2 = tagger.tag_ngram_123_backoff(\"\"\" Ἐπὶ τούτοις ὅρκια ἐποιήσαντο οἵ τε αὐτεῖ μένοντες \\\\\n",
    "καὶ οἱ πλέοντες οἰκιξόντες καὶ ἀρὰς ἐποιήσαντο τὸς ταῦτα παρβέωντας καὶ μὴ ἐμμένοντας ἢ τῶν ἐλ Λιβύαι οἰκεόντων ἢ τῶν αὐτεῖ \\\\\n",
    "μενόντων. Κηρίνος πλάσσαντες κολοσὸς κατέκαιον ἐπαρεώμενοι πάντες συνενθόντες καὶ ἄνδρες καὶ γυναῖκες \\\\\n",
    "καὶ παῖδες καὶ παιδίσκαι· τὸμ μὴ ἐμμένοντα τούτοις τοῖς ὁρκίοις ἀλλὰ παρβέωντα καταλείβεσθαί νιν καὶ καταρρὲν \\\\\n",
    "ὥσπερ τὸς κολοσός, καὶ αὐτὸν καὶ γόνον καὶ χρήματα \"\"\")\n",
    "print(tagged2)"
   ]
  },
  {
   "cell_type": "code",
   "execution_count": 56,
   "metadata": {},
   "outputs": [
    {
     "name": "stdout",
     "output_type": "stream",
     "text": [
      "('Ἐπὶ', 'Unk') ('Ἐπὶ', None)\n",
      "('τούτοις', 'A-P---MD-') ('τούτοις', 'A-P---MD-')\n",
      "('ὅρκια', 'N-P---NA-') ('ὅρκια', 'N-P---NA-')\n",
      "('ἐποιήσαντο', 'Unk') ('ἐποιήσαντο', None)\n",
      "('οἵ', 'P-P---MN-') ('οἵ', 'P-P---MN-')\n",
      "('τε', 'G--------') ('τε', 'G--------')\n",
      "('αὐτεῖ', 'Unk') ('αὐτεῖ', None)\n",
      "('μένοντες', 'T-PPPAMN-') ('μένοντες', 'T-PPPAMN-')\n",
      "('\\\\', 'Unk') ('\\\\', None)\n",
      "('καὶ', 'C--------') ('καὶ', 'C--------')\n",
      "('οἱ', 'L-P---MN-') ('οἱ', 'P-S---MD-')\n",
      "('πλέοντες', 'T-PPPAMN-') ('πλέοντες', 'T-PPPAMN-')\n",
      "('οἰκιξόντες', 'Unk') ('οἰκιξόντες', None)\n",
      "('καὶ', 'C--------') ('καὶ', 'C--------')\n",
      "('ἀρὰς', 'N-P---FA-') ('ἀρὰς', 'N-P---FA-')\n",
      "('ἐποιήσαντο', 'Unk') ('ἐποιήσαντο', None)\n",
      "('τὸς', 'Unk') ('τὸς', None)\n",
      "('ταῦτα', 'A-P---NA-') ('ταῦτα', 'A-P---NA-')\n",
      "('παρβέωντας', 'Unk') ('παρβέωντας', None)\n",
      "('καὶ', 'C--------') ('καὶ', 'C--------')\n",
      "('μὴ', 'G--------') ('μὴ', 'G--------')\n",
      "('ἐμμένοντας', 'Unk') ('ἐμμένοντας', None)\n",
      "('ἢ', 'C--------') ('ἢ', 'C--------')\n",
      "('τῶν', 'L-P---MG-') ('τῶν', 'L-P---NG-')\n",
      "('ἐλ', 'Unk') ('ἐλ', None)\n",
      "('Λιβύαι', 'Unk') ('Λιβύαι', None)\n",
      "('οἰκεόντων', 'Unk') ('οἰκεόντων', None)\n",
      "('ἢ', 'C--------') ('ἢ', 'C--------')\n",
      "('τῶν', 'L-P---MG-') ('τῶν', 'L-P---NG-')\n",
      "('αὐτεῖ', 'Unk') ('αὐτεῖ', None)\n",
      "('\\\\', 'Unk') ('\\\\', None)\n",
      "('μενόντων', 'V3PPMA---') ('μενόντων', 'V3PPMA---')\n",
      "('.', 'U--------') ('.', 'U--------')\n",
      "('Κηρίνος', 'Unk') ('Κηρίνος', None)\n",
      "('πλάσσαντες', 'Unk') ('πλάσσαντες', None)\n",
      "('κολοσὸς', 'Unk') ('κολοσὸς', None)\n",
      "('κατέκαιον', 'V3PIIA---') ('κατέκαιον', 'V3PIIA---')\n",
      "('ἐπαρεώμενοι', 'Unk') ('ἐπαρεώμενοι', None)\n",
      "('πάντες', 'A-P---MN-') ('πάντες', 'A-P---MN-')\n",
      "('συνενθόντες', 'Unk') ('συνενθόντες', None)\n",
      "('καὶ', 'C--------') ('καὶ', 'C--------')\n",
      "('ἄνδρες', 'N-P---MN-') ('ἄνδρες', 'N-P---MN-')\n",
      "('καὶ', 'C--------') ('καὶ', 'C--------')\n",
      "('γυναῖκες', 'N-P---FN-') ('γυναῖκες', 'N-P---FN-')\n",
      "('\\\\', 'Unk') ('\\\\', None)\n",
      "('καὶ', 'C--------') ('καὶ', 'C--------')\n",
      "('παῖδες', 'N-P---MV-') ('παῖδες', 'N-P---MN-')\n",
      "('καὶ', 'C--------') ('καὶ', 'C--------')\n",
      "('παιδίσκαι', 'Unk') ('παιδίσκαι', None)\n",
      "('·', 'U--------') ('·', 'U--------')\n",
      "('τὸμ', 'Unk') ('τὸμ', None)\n",
      "('μὴ', 'C--------') ('μὴ', 'C--------')\n",
      "('ἐμμένοντα', 'Unk') ('ἐμμένοντα', None)\n",
      "('τούτοις', 'A-P---ND-') ('τούτοις', 'A-P---MD-')\n",
      "('τοῖς', 'L-P---ND-') ('τοῖς', 'L-P---MD-')\n",
      "('ὁρκίοις', 'Unk') ('ὁρκίοις', None)\n",
      "('ἀλλὰ', 'C--------') ('ἀλλὰ', 'C--------')\n",
      "('παρβέωντα', 'Unk') ('παρβέωντα', None)\n",
      "('καταλείβεσθαί', 'Unk') ('καταλείβεσθαί', None)\n",
      "('νιν', 'P-S---MA-') ('νιν', 'P-S---MA-')\n",
      "('καὶ', 'C--------') ('καὶ', 'D--------')\n",
      "('καταρρὲν', 'Unk') ('καταρρὲν', None)\n",
      "('\\\\', 'Unk') ('\\\\', None)\n",
      "('ὥσπερ', 'D--------') ('ὥσπερ', 'D--------')\n",
      "('τὸς', 'Unk') ('τὸς', None)\n",
      "('κολοσός', 'Unk') ('κολοσός', None)\n",
      "(',', 'U--------') (',', 'U--------')\n",
      "('καὶ', 'C--------') ('καὶ', 'C--------')\n",
      "('αὐτὸν', 'A-S---MA-') ('αὐτὸν', 'A-S---MA-')\n",
      "('καὶ', 'C--------') ('καὶ', 'C--------')\n",
      "('γόνον', 'N-S---MA-') ('γόνον', 'N-S---MA-')\n",
      "('καὶ', 'C--------') ('καὶ', 'C--------')\n",
      "('χρήματα', 'N-P---NA-') ('χρήματα', 'N-P---NA-')\n"
     ]
    }
   ],
   "source": [
    "#show the two results side by side\n",
    "for b,c in zip(tagged1, tagged2):\n",
    "    print(b,c)"
   ]
  },
  {
   "cell_type": "code",
   "execution_count": 57,
   "metadata": {},
   "outputs": [
    {
     "name": "stdout",
     "output_type": "stream",
     "text": [
      "('Ἐπὶ', 'Unk') ('Ἐπὶ', None)\n",
      "('ἐποιήσαντο', 'Unk') ('ἐποιήσαντο', None)\n",
      "('αὐτεῖ', 'Unk') ('αὐτεῖ', None)\n",
      "('\\\\', 'Unk') ('\\\\', None)\n",
      "('οἱ', 'L-P---MN-') ('οἱ', 'P-S---MD-')\n",
      "('οἰκιξόντες', 'Unk') ('οἰκιξόντες', None)\n",
      "('ἐποιήσαντο', 'Unk') ('ἐποιήσαντο', None)\n",
      "('τὸς', 'Unk') ('τὸς', None)\n",
      "('παρβέωντας', 'Unk') ('παρβέωντας', None)\n",
      "('ἐμμένοντας', 'Unk') ('ἐμμένοντας', None)\n",
      "('τῶν', 'L-P---MG-') ('τῶν', 'L-P---NG-')\n",
      "('ἐλ', 'Unk') ('ἐλ', None)\n",
      "('Λιβύαι', 'Unk') ('Λιβύαι', None)\n",
      "('οἰκεόντων', 'Unk') ('οἰκεόντων', None)\n",
      "('τῶν', 'L-P---MG-') ('τῶν', 'L-P---NG-')\n",
      "('αὐτεῖ', 'Unk') ('αὐτεῖ', None)\n",
      "('\\\\', 'Unk') ('\\\\', None)\n",
      "('Κηρίνος', 'Unk') ('Κηρίνος', None)\n",
      "('πλάσσαντες', 'Unk') ('πλάσσαντες', None)\n",
      "('κολοσὸς', 'Unk') ('κολοσὸς', None)\n",
      "('ἐπαρεώμενοι', 'Unk') ('ἐπαρεώμενοι', None)\n",
      "('συνενθόντες', 'Unk') ('συνενθόντες', None)\n",
      "('\\\\', 'Unk') ('\\\\', None)\n",
      "('παῖδες', 'N-P---MV-') ('παῖδες', 'N-P---MN-')\n",
      "('παιδίσκαι', 'Unk') ('παιδίσκαι', None)\n",
      "('τὸμ', 'Unk') ('τὸμ', None)\n",
      "('ἐμμένοντα', 'Unk') ('ἐμμένοντα', None)\n",
      "('τούτοις', 'A-P---ND-') ('τοῖς', 'L-P---MD-')\n",
      "('τοῖς', 'L-P---ND-') ('ὁρκίοις', None)\n",
      "('ὁρκίοις', 'Unk') ('παρβέωντα', None)\n",
      "('παρβέωντα', 'Unk') ('καταλείβεσθαί', None)\n",
      "('καταλείβεσθαί', 'Unk') ('καὶ', 'D--------')\n",
      "('καταρρὲν', 'Unk') ('καταρρὲν', None)\n",
      "('\\\\', 'Unk') ('\\\\', None)\n",
      "('τὸς', 'Unk') ('τὸς', None)\n",
      "('κολοσός', 'Unk') ('κολοσός', None)\n"
     ]
    }
   ],
   "source": [
    "# show the results where the two taggers differ\n",
    "# this includes\n",
    "def returnNotMatches(a, b):\n",
    "    return [x for x in a if x not in b]\n",
    "comparison = returnNotMatches(tagged1,tagged2)\n",
    "def returnNotMatches2(a, b):\n",
    "    return [x for x in b if x not in a]\n",
    "comparison2 = returnNotMatches2(tagged1,tagged2)\n",
    "for b,c in zip(comparison, comparison2):\n",
    "    print(b,c)"
   ]
  },
  {
   "cell_type": "code",
   "execution_count": 58,
   "metadata": {},
   "outputs": [
    {
     "data": {
      "text/plain": [
       "36"
      ]
     },
     "execution_count": 58,
     "metadata": {},
     "output_type": "execute_result"
    }
   ],
   "source": [
    "# how many words were parsed differently/unparsable\n",
    "len(comparison)"
   ]
  },
  {
   "cell_type": "code",
   "execution_count": 66,
   "metadata": {},
   "outputs": [
    {
     "data": {
      "text/plain": [
       "68"
      ]
     },
     "execution_count": 66,
     "metadata": {},
     "output_type": "execute_result"
    }
   ],
   "source": [
    "# more modules\n",
    "import os.path\n",
    "from nltk.corpus.reader.plaintext import PlaintextCorpusReader\n",
    "from nltk.tokenize.punkt import PunktSentenceTokenizer, PunktParameters\n",
    "from cltk.tokenize.sentence import TokenizeSentence\n",
    "from cltk.tokenize.word import WordTokenizer\n",
    "# split the text into words, count how many\n",
    "gkwt = WordTokenizer('greek')\n",
    "gkst = TokenizeSentence(\"greek\")\n",
    "words = gkwt.tokenize(text)\n",
    "len(words)"
   ]
  }
 ],
 "metadata": {
  "kernelspec": {
   "display_name": "Python 3",
   "language": "python",
   "name": "python3"
  },
  "language_info": {
   "codemirror_mode": {
    "name": "ipython",
    "version": 3
   },
   "file_extension": ".py",
   "mimetype": "text/x-python",
   "name": "python",
   "nbconvert_exporter": "python",
   "pygments_lexer": "ipython3",
   "version": "3.6.4"
  }
 },
 "nbformat": 4,
 "nbformat_minor": 2
}
